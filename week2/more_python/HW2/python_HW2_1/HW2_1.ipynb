{
 "cells": [
  {
   "cell_type": "markdown",
   "metadata": {},
   "source": [
    "***HW2-1***\n",
    "\n",
    "There are two strings in HW2_1.txt .Let the first string call str1 the second one call str2 .We want to know the longest common substring of str1 and the reverse of str2\n",
    "\n",
    "The result should contain the longest common substring and the length of the substring\n",
    "TO do:\n",
    "\n",
    "Please read in HW2_1.txt rather than copy paste two strings\n",
    "\n",
    "Please write a function call rev_seq to reverse str2\n",
    "\n",
    "Please write a function call countsub to return both answers\n",
    "\n",
    "Hint:\n",
    "\n",
    "To find the longest length of substring you can think about practice2 in python_basic .To find the longest substring think of the meaning of the longest length and the index of str1,str2\n",
    "\n",
    "Beware that there might be '\\n' when you read in your file(you may also try readlines() function)\n",
    "\n",
    "---\n",
    "\n",
    "***Output format:***\n",
    "\n",
    "Save the result of HW2_1 as HW2_1_python_{your_name}.txt which contains a number and a substring  (4 lines)\n",
    "\n",
    "\n",
    "Maxlength:\n",
    "\n",
    "12345\n",
    "\n",
    "Substring:\n",
    "\n",
    "atctgac\n",
    "\n",
    "and also save the HW2_1_python_{your_name}.py/.ipynb file\n",
    "\n",
    "Email them to r11631063@ntu.edu.tw\n",
    "\n",
    "---\n",
    "\n",
    "***Scoring rules:***\n",
    "\n",
    "20% Output format (using correct format to reduce my work can get all points here!)\n",
    "\n",
    "80% Answer accuracy (depends on how many answers you perfectly match in total)\n",
    "\n",
    "---\n",
    "**Due date**\n",
    "\n",
    "**2023.07.27 Tuesday 23:59** -> 100%\n",
    "\n",
    "2023.08.03 Tuesday 23:59 -> 80%\n",
    "\n",
    "...\n",
    "\n",
    "\n",
    "---\n",
    "\n",
    "\n",
    "**Feel free to contact me via email or Slack(Huang-tien-chiung,黃天泂) if you have any problem with this homework.**"
   ]
  },
  {
   "cell_type": "code",
   "execution_count": 1,
   "metadata": {},
   "outputs": [],
   "source": [
    "def rev_seq(seq):\n",
    "    return seq[::-1]"
   ]
  },
  {
   "cell_type": "code",
   "execution_count": 2,
   "metadata": {},
   "outputs": [],
   "source": [
    "def countsub(seq1, seq2):\n",
    "    m = len(seq1)\n",
    "    n = len(seq2)\n",
    "\n",
    "    dp = [[0] * (n + 1) for _ in range(m + 1)]\n",
    "\n",
    "\n",
    "    for i in range(1, m + 1):\n",
    "        for j in range(1, n + 1):\n",
    "            if seq1[i - 1] == seq2[j - 1]:\n",
    "                dp[i][j] = dp[i - 1][j - 1] + 1\n",
    "            else:\n",
    "                dp[i][j] = max(dp[i - 1][j], dp[i][j - 1])\n",
    "\n",
    "    longest_length = dp[m][n]\n",
    "\n",
    "    i, j = m, n\n",
    "    longest_subseq = []\n",
    "    while i > 0 and j > 0:\n",
    "        if seq1[i - 1] == seq2[j - 1]:\n",
    "            longest_subseq.append(seq1[i - 1])\n",
    "            i -= 1\n",
    "            j -= 1\n",
    "        elif dp[i - 1][j] > dp[i][j - 1]:\n",
    "            i -= 1\n",
    "        else:\n",
    "            j -= 1\n",
    "\n",
    "    longest_subseq.reverse()\n",
    "    return \"\".join(longest_subseq), longest_length\n"
   ]
  },
  {
   "cell_type": "code",
   "execution_count": 3,
   "metadata": {},
   "outputs": [
    {
     "name": "stdout",
     "output_type": "stream",
     "text": [
      "Longest common subsequence: tgagccatgtactcgttgcgatacgtcaggcattacgattccaggtagcccgtacgatcagccgatcgatcctacacc\n",
      "Length of the longest common subsequence: 78\n"
     ]
    }
   ],
   "source": [
    "with open('HW2_1.txt', 'r') as file:\n",
    "        lines = file.readlines()\n",
    "seq1 = lines[0].strip()  # Remove '\\n' at the end\n",
    "seq2 = lines[1].strip()  # Remove '\\n' at the end\n",
    "seq2 = rev_seq(seq2)\n",
    "longest_subseq, longest_length = countsub(seq1, seq2)\n",
    "print(\"Longest common subsequence:\", longest_subseq)\n",
    "print(\"Length of the longest common subsequence:\", longest_length)"
   ]
  },
  {
   "cell_type": "code",
   "execution_count": 4,
   "metadata": {},
   "outputs": [],
   "source": [
    "with open('HW2_1_python_晏文芳.txt', 'w') as output_file:\n",
    "    output_file.write(\"Maxlength: \" + \"\\n\" + str(longest_length) + \"\\n\")\n",
    "    output_file.write(\"Sequence: \" + \"\\n\" + longest_subseq + \"\\n\")"
   ]
  }
 ],
 "metadata": {
  "kernelspec": {
   "display_name": "myenv",
   "language": "python",
   "name": "python3"
  },
  "language_info": {
   "codemirror_mode": {
    "name": "ipython",
    "version": 3
   },
   "file_extension": ".py",
   "mimetype": "text/x-python",
   "name": "python",
   "nbconvert_exporter": "python",
   "pygments_lexer": "ipython3",
   "version": "3.10.11"
  },
  "orig_nbformat": 4
 },
 "nbformat": 4,
 "nbformat_minor": 2
}
